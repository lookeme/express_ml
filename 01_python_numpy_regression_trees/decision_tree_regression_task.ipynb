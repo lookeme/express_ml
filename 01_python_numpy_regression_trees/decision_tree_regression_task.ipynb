{
 "cells": [
  {
   "cell_type": "markdown",
   "metadata": {},
   "source": [
    "##### 1. (0 баллов)\n",
    "\n",
    "Загрузите из sklearn датасет цен на жилье в Бостоне.\n",
    "<br>\n",
    "Разделите данные на 90% обучающую и тестовую выборку с помощью функции <a href=\"http://scikit-learn.org/stable/modules/generated/sklearn.model_selection.train_test_split.html\">train_test_split</a>\n",
    "<br>\n",
    "Разделите данные на два numpy массива: массив фич и массив с целевой переменной.\n",
    "<br>\n",
    "<br>\n",
    "Описание датасета [по ссылке.](http://scikit-learn.org/stable/datasets/index.html#boston-house-prices-dataset)\n",
    "<br>\n",
    "Документация и пример использования [по ссылке.](http://scikit-learn.org/stable/modules/generated/sklearn.datasets.load_boston.html)"
   ]
  },
  {
   "cell_type": "code",
   "execution_count": 136,
   "metadata": {},
   "outputs": [
    {
     "name": "stdout",
     "output_type": "stream",
     "text": [
      "455\n",
      "51\n"
     ]
    }
   ],
   "source": [
    "%matplotlib inline\n",
    "import seaborn as sns\n",
    "import numpy as np\n",
    "import matplotlib.pyplot as plt\n",
    "import sklearn as sk\n",
    "import pandas as pd\n",
    "import numpy as np\n",
    "from sklearn import tree\n",
    "from sklearn.model_selection import train_test_split\n",
    "from sklearn.datasets import load_boston\n",
    "from sklearn.tree import DecisionTreeRegressor\n",
    "from sklearn.ensemble import RandomForestRegressor\n",
    "\n",
    "\n",
    "\n",
    "\n",
    "\n",
    "boston = load_boston(return_X_y=True)\n",
    "# bos = pd.DataFrame(boston.data, columns=boston.feature_names)\n",
    "\n",
    "X_train, X_test, y_train, y_test = train_test_split (boston[0], boston[1],test_size=0.10, random_state=42)\n",
    "print(len(X_train))\n",
    "print(len(X_test))\n"
   ]
  },
  {
   "cell_type": "markdown",
   "metadata": {},
   "source": [
    "##### 2. \n",
    "\n",
    "Обучите [DecisionTreeRegressor](http://scikit-learn.org/stable/modules/generated/sklearn.tree.DecisionTreeRegressor.html) на трейне. <b>(2 балл)</b>\n",
    "\n",
    "Примените модель на тестовых данных (метод predict)\n",
    "<br>\n",
    "Посчитайте ошибку на трейне и на тесте (mse или mae, в зависимости от того, что вы использовали в обучении).\n",
    "<br>\n",
    "Как это сделать, можно посмотреть по ссылкам:\n",
    "[mae](http://scikit-learn.org/stable/modules/generated/sklearn.metrics.mean_absolute_error.html)\n",
    "[mse](http://scikit-learn.org/stable/modules/generated/sklearn.metrics.mean_squared_error.html)\n"
   ]
  },
  {
   "cell_type": "code",
   "execution_count": 149,
   "metadata": {},
   "outputs": [
    {
     "name": "stdout",
     "output_type": "stream",
     "text": [
      "2.896286615109552 1.946078431372549\n"
     ]
    },
    {
     "data": {
      "image/png": "[encoded data removed]",
      "text/plain": [
       "<Figure size 432x288 with 1 Axes>"
      ]
     },
     "metadata": {
      "needs_background": "light"
     },
     "output_type": "display_data"
    }
   ],
   "source": [
    "from sklearn.metrics import mean_absolute_error\n",
    "from sklearn.metrics import mean_squared_error\n",
    "\n",
    "clf = DecisionTreeRegressor(max_depth=15,random_state=4)\n",
    "# clf = RandomForestRegressor(n_estimators=100, max_depth=None,random_state=4)\n",
    "\n",
    "\n",
    "clf.fit(X_train, y_train)\n",
    "y_pred = clf.predict(X_test)\n",
    "# print(y_pred, \"\\n\",y_test)\n",
    "\n",
    "\n",
    "mse = mean_squared_error(y_test, y_pred)  \n",
    "mae = mean_absolute_error(y_test, y_pred)\n",
    "print(mse**0.5, mae)\n",
    "\n",
    "\n",
    "plt.hist(y_test-y_pred, bins=20);\n",
    "\n",
    "\n"
   ]
  },
  {
   "cell_type": "markdown",
   "metadata": {
    "ExecuteTime": {
     "end_time": "2018-07-27T13:37:51.763029Z",
     "start_time": "2018-07-27T13:37:51.743017Z"
    }
   },
   "source": [
    "##### 3. \n",
    "\n",
    "Попробуйте поварьировать такие параметры, как: \n",
    "- <b>(1 балл)</b> функция потерь (mse или mae)\n",
    "- <b>(1 балл)</b> максимальная глубина дерева (max_depth)\n",
    "- <b>(1 балл)</b> какие фичи использовать в обучении\n",
    "- <b>(1 балл)</b> число фич в сплите (max_features)\n",
    "- <b>(1 балл)</b> минимальное число примеров в сплите (min_samples_split)\n",
    "\n",
    "Какие выводы можно сделать?\n",
    "\n",
    "Использование decision tree в sklearn: [примеры](http://scikit-learn.org/stable/modules/generated/sklearn.tree.DecisionTreeRegressor.html#examples-using-sklearn-tree-decisiontreeregressor)"
   ]
  },
  {
   "cell_type": "code",
   "execution_count": null,
   "metadata": {},
   "outputs": [],
   "source": []
  },
  {
   "cell_type": "markdown",
   "metadata": {},
   "source": [
    "##### 4. (3 балла) \n",
    "\n",
    "Постройте графики функции ошибки в зависимости от параметра max_depth на train и test. При каком значении max_depth происходит переобучение? Обоснуйте ответ"
   ]
  },
  {
   "cell_type": "code",
   "execution_count": null,
   "metadata": {},
   "outputs": [],
   "source": []
  }
 ],
 "metadata": {
  "kernelspec": {
   "display_name": "Python 3",
   "language": "python",
   "name": "python3"
  },
  "language_info": {
   "codemirror_mode": {
    "name": "ipython",
    "version": 3
   },
   "file_extension": ".py",
   "mimetype": "text/x-python",
   "name": "python",
   "nbconvert_exporter": "python",
   "pygments_lexer": "ipython3",
   "version": "3.7.0"
  }
 },
 "nbformat": 4,
 "nbformat_minor": 2
}
